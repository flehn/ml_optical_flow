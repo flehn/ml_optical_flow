{
  "nbformat": 4,
  "nbformat_minor": 0,
  "metadata": {
    "colab": {
      "provenance": []
    },
    "kernelspec": {
      "name": "python3",
      "display_name": "Python 3"
    },
    "language_info": {
      "name": "python"
    },
    "accelerator": "GPU"
  },
  "cells": [
    {
      "cell_type": "code",
      "source": [
        "import cv2\n",
        "import numpy as np\n",
        "from google.colab.patches import cv2_imshow\n",
        "import matplotlib.pyplot as plt\n",
        "from keras.layers.pooling import MaxPooling2D\n",
        "import tensorflow as tf\n",
        "from tensorflow import keras\n",
        "import keras.layers\n",
        "from keras import layers\n",
        "from keras.models import Sequential, Model\n",
        "from keras.layers import Conv2D, Dense, Dropout, Normalization,MaxPool2D,Flatten\n",
        "from moviepy.editor import *"
      ],
      "metadata": {
        "id": "vrEo42KxZ4zF",
        "colab": {
          "base_uri": "https://localhost:8080/"
        },
        "outputId": "add9e231-e607-4118-e7a6-43d30e9f5963"
      },
      "execution_count": null,
      "outputs": [
        {
          "output_type": "stream",
          "name": "stdout",
          "text": [
            "Imageio: 'ffmpeg-linux64-v3.3.1' was not found on your computer; downloading it now.\n",
            "Try 1. Download from https://github.com/imageio/imageio-binaries/raw/master/ffmpeg/ffmpeg-linux64-v3.3.1 (43.8 MB)\n",
            "Downloading: 8192/45929032 bytes (0.0%)\b\b\b\b\b\b\b\b\b\b\b\b\b\b\b\b\b\b\b\b\b\b\b\b\b\b3940352/45929032 bytes (8.6%)\b\b\b\b\b\b\b\b\b\b\b\b\b\b\b\b\b\b\b\b\b\b\b\b\b\b\b\b\b7634944/45929032 bytes (16.6%)\b\b\b\b\b\b\b\b\b\b\b\b\b\b\b\b\b\b\b\b\b\b\b\b\b\b\b\b\b\b11591680/45929032 bytes (25.2%)\b\b\b\b\b\b\b\b\b\b\b\b\b\b\b\b\b\b\b\b\b\b\b\b\b\b\b\b\b\b\b15425536/45929032 bytes (33.6%)\b\b\b\b\b\b\b\b\b\b\b\b\b\b\b\b\b\b\b\b\b\b\b\b\b\b\b\b\b\b\b19382272/45929032 bytes (42.2%)\b\b\b\b\b\b\b\b\b\b\b\b\b\b\b\b\b\b\b\b\b\b\b\b\b\b\b\b\b\b\b20447232/45929032 bytes (44.5%)\b\b\b\b\b\b\b\b\b\b\b\b\b\b\b\b\b\b\b\b\b\b\b\b\b\b\b\b\b\b\b24576000/45929032 bytes (53.5%)\b\b\b\b\b\b\b\b\b\b\b\b\b\b\b\b\b\b\b\b\b\b\b\b\b\b\b\b\b\b\b28614656/45929032 bytes (62.3%)\b\b\b\b\b\b\b\b\b\b\b\b\b\b\b\b\b\b\b\b\b\b\b\b\b\b\b\b\b\b\b32841728/45929032 bytes (71.5%)\b\b\b\b\b\b\b\b\b\b\b\b\b\b\b\b\b\b\b\b\b\b\b\b\b\b\b\b\b\b\b36741120/45929032 bytes (80.0%)\b\b\b\b\b\b\b\b\b\b\b\b\b\b\b\b\b\b\b\b\b\b\b\b\b\b\b\b\b\b\b40779776/45929032 bytes (88.8%)\b\b\b\b\b\b\b\b\b\b\b\b\b\b\b\b\b\b\b\b\b\b\b\b\b\b\b\b\b\b\b44793856/45929032 bytes (97.5%)\b\b\b\b\b\b\b\b\b\b\b\b\b\b\b\b\b\b\b\b\b\b\b\b\b\b\b\b\b\b\b45929032/45929032 bytes (100.0%)\n",
            "  Done\n",
            "File saved as /root/.imageio/ffmpeg/ffmpeg-linux64-v3.3.1.\n"
          ]
        }
      ]
    },
    {
      "cell_type": "markdown",
      "source": [
        "# Data"
      ],
      "metadata": {
        "id": "GkwR2rabsA3j"
      }
    },
    {
      "cell_type": "code",
      "source": [
        "!wget http://www.robots.ox.ac.uk/~alonso/data/tv_human_interactions_videos.tar.gz\n",
        "!wget http://www.robots.ox.ac.uk/~alonso/data/readme.txt\n",
        "!mkdir TV-HI\n",
        "!tar -xvf  'tv_human_interactions_videos.tar.gz' -C TV-HI\n",
        "!mv readme.txt 'TV-HI/readme.txt'"
      ],
      "metadata": {
        "id": "Tukat2RpsCOl"
      },
      "execution_count": null,
      "outputs": []
    },
    {
      "cell_type": "code",
      "source": [
        "set_1_indices = [[2,14,15,16,18,19,20,21,24,25,26,27,28,32,40,41,42,43,44,45,46,47,48,49,50],\n",
        "                 [1,6,7,8,9,10,11,12,13,23,24,25,27,28,29,30,31,32,33,34,35,44,45,47,48],\n",
        "                 [2,3,4,11,12,15,16,17,18,20,21,27,29,30,31,32,33,34,35,36,42,44,46,49,50],\n",
        "                 [1,7,8,9,10,11,12,13,14,16,17,18,22,23,24,26,29,31,35,36,38,39,40,41,42]]\n",
        "set_2_indices = [[1,3,4,5,6,7,8,9,10,11,12,13,17,22,23,29,30,31,33,34,35,36,37,38,39],\n",
        "                 [2,3,4,5,14,15,16,17,18,19,20,21,22,26,36,37,38,39,40,41,42,43,46,49,50],\n",
        "                 [1,5,6,7,8,9,10,13,14,19,22,23,24,25,26,28,37,38,39,40,41,43,45,47,48],\n",
        "                 [2,3,4,5,6,15,19,20,21,25,27,28,30,32,33,34,37,43,44,45,46,47,48,49,50]]\n",
        "classes = ['handShake', 'highFive', 'hug', 'kiss']  # we ignore the negative class\n",
        "\n",
        "# test set\n",
        "set_1 = [f'{classes[c]}_{i:04d}.avi' for c in range(len(classes)) for i in set_1_indices[c]]\n",
        "set_1_label = [f'{classes[c]}' for c in range(len(classes)) for i in set_1_indices[c]]\n",
        "print(f'Set 1 to be used for test ({len(set_1)}):\\n\\t{set_1}')\n",
        "print(f'Set 1 labels ({len(set_1_label)}):\\n\\t{set_1_label}\\n')\n",
        "\n",
        "# training set\n",
        "set_2 = [f'{classes[c]}_{i:04d}.avi' for c in range(len(classes)) for i in set_2_indices[c]]\n",
        "set_2_label = [f'{classes[c]}' for c in range(len(classes)) for i in set_2_indices[c]]\n",
        "print(f'Set 2 to be used for train and validation ({len(set_2)}):\\n\\t{set_2}')\n",
        "print(f'Set 2 labels ({len(set_2_label)}):\\n\\t{set_2_label}')\n"
      ],
      "metadata": {
        "colab": {
          "base_uri": "https://localhost:8080/"
        },
        "id": "qyZmog2CsDHv",
        "outputId": "af061da9-ee71-4e01-cc86-bab5e4a216da"
      },
      "execution_count": null,
      "outputs": [
        {
          "output_type": "stream",
          "name": "stdout",
          "text": [
            "Set 1 to be used for test (100):\n",
            "\t['handShake_0002.avi', 'handShake_0014.avi', 'handShake_0015.avi', 'handShake_0016.avi', 'handShake_0018.avi', 'handShake_0019.avi', 'handShake_0020.avi', 'handShake_0021.avi', 'handShake_0024.avi', 'handShake_0025.avi', 'handShake_0026.avi', 'handShake_0027.avi', 'handShake_0028.avi', 'handShake_0032.avi', 'handShake_0040.avi', 'handShake_0041.avi', 'handShake_0042.avi', 'handShake_0043.avi', 'handShake_0044.avi', 'handShake_0045.avi', 'handShake_0046.avi', 'handShake_0047.avi', 'handShake_0048.avi', 'handShake_0049.avi', 'handShake_0050.avi', 'highFive_0001.avi', 'highFive_0006.avi', 'highFive_0007.avi', 'highFive_0008.avi', 'highFive_0009.avi', 'highFive_0010.avi', 'highFive_0011.avi', 'highFive_0012.avi', 'highFive_0013.avi', 'highFive_0023.avi', 'highFive_0024.avi', 'highFive_0025.avi', 'highFive_0027.avi', 'highFive_0028.avi', 'highFive_0029.avi', 'highFive_0030.avi', 'highFive_0031.avi', 'highFive_0032.avi', 'highFive_0033.avi', 'highFive_0034.avi', 'highFive_0035.avi', 'highFive_0044.avi', 'highFive_0045.avi', 'highFive_0047.avi', 'highFive_0048.avi', 'hug_0002.avi', 'hug_0003.avi', 'hug_0004.avi', 'hug_0011.avi', 'hug_0012.avi', 'hug_0015.avi', 'hug_0016.avi', 'hug_0017.avi', 'hug_0018.avi', 'hug_0020.avi', 'hug_0021.avi', 'hug_0027.avi', 'hug_0029.avi', 'hug_0030.avi', 'hug_0031.avi', 'hug_0032.avi', 'hug_0033.avi', 'hug_0034.avi', 'hug_0035.avi', 'hug_0036.avi', 'hug_0042.avi', 'hug_0044.avi', 'hug_0046.avi', 'hug_0049.avi', 'hug_0050.avi', 'kiss_0001.avi', 'kiss_0007.avi', 'kiss_0008.avi', 'kiss_0009.avi', 'kiss_0010.avi', 'kiss_0011.avi', 'kiss_0012.avi', 'kiss_0013.avi', 'kiss_0014.avi', 'kiss_0016.avi', 'kiss_0017.avi', 'kiss_0018.avi', 'kiss_0022.avi', 'kiss_0023.avi', 'kiss_0024.avi', 'kiss_0026.avi', 'kiss_0029.avi', 'kiss_0031.avi', 'kiss_0035.avi', 'kiss_0036.avi', 'kiss_0038.avi', 'kiss_0039.avi', 'kiss_0040.avi', 'kiss_0041.avi', 'kiss_0042.avi']\n",
            "Set 1 labels (100):\n",
            "\t['handShake', 'handShake', 'handShake', 'handShake', 'handShake', 'handShake', 'handShake', 'handShake', 'handShake', 'handShake', 'handShake', 'handShake', 'handShake', 'handShake', 'handShake', 'handShake', 'handShake', 'handShake', 'handShake', 'handShake', 'handShake', 'handShake', 'handShake', 'handShake', 'handShake', 'highFive', 'highFive', 'highFive', 'highFive', 'highFive', 'highFive', 'highFive', 'highFive', 'highFive', 'highFive', 'highFive', 'highFive', 'highFive', 'highFive', 'highFive', 'highFive', 'highFive', 'highFive', 'highFive', 'highFive', 'highFive', 'highFive', 'highFive', 'highFive', 'highFive', 'hug', 'hug', 'hug', 'hug', 'hug', 'hug', 'hug', 'hug', 'hug', 'hug', 'hug', 'hug', 'hug', 'hug', 'hug', 'hug', 'hug', 'hug', 'hug', 'hug', 'hug', 'hug', 'hug', 'hug', 'hug', 'kiss', 'kiss', 'kiss', 'kiss', 'kiss', 'kiss', 'kiss', 'kiss', 'kiss', 'kiss', 'kiss', 'kiss', 'kiss', 'kiss', 'kiss', 'kiss', 'kiss', 'kiss', 'kiss', 'kiss', 'kiss', 'kiss', 'kiss', 'kiss', 'kiss']\n",
            "\n",
            "Set 2 to be used for train and validation (100):\n",
            "\t['handShake_0001.avi', 'handShake_0003.avi', 'handShake_0004.avi', 'handShake_0005.avi', 'handShake_0006.avi', 'handShake_0007.avi', 'handShake_0008.avi', 'handShake_0009.avi', 'handShake_0010.avi', 'handShake_0011.avi', 'handShake_0012.avi', 'handShake_0013.avi', 'handShake_0017.avi', 'handShake_0022.avi', 'handShake_0023.avi', 'handShake_0029.avi', 'handShake_0030.avi', 'handShake_0031.avi', 'handShake_0033.avi', 'handShake_0034.avi', 'handShake_0035.avi', 'handShake_0036.avi', 'handShake_0037.avi', 'handShake_0038.avi', 'handShake_0039.avi', 'highFive_0002.avi', 'highFive_0003.avi', 'highFive_0004.avi', 'highFive_0005.avi', 'highFive_0014.avi', 'highFive_0015.avi', 'highFive_0016.avi', 'highFive_0017.avi', 'highFive_0018.avi', 'highFive_0019.avi', 'highFive_0020.avi', 'highFive_0021.avi', 'highFive_0022.avi', 'highFive_0026.avi', 'highFive_0036.avi', 'highFive_0037.avi', 'highFive_0038.avi', 'highFive_0039.avi', 'highFive_0040.avi', 'highFive_0041.avi', 'highFive_0042.avi', 'highFive_0043.avi', 'highFive_0046.avi', 'highFive_0049.avi', 'highFive_0050.avi', 'hug_0001.avi', 'hug_0005.avi', 'hug_0006.avi', 'hug_0007.avi', 'hug_0008.avi', 'hug_0009.avi', 'hug_0010.avi', 'hug_0013.avi', 'hug_0014.avi', 'hug_0019.avi', 'hug_0022.avi', 'hug_0023.avi', 'hug_0024.avi', 'hug_0025.avi', 'hug_0026.avi', 'hug_0028.avi', 'hug_0037.avi', 'hug_0038.avi', 'hug_0039.avi', 'hug_0040.avi', 'hug_0041.avi', 'hug_0043.avi', 'hug_0045.avi', 'hug_0047.avi', 'hug_0048.avi', 'kiss_0002.avi', 'kiss_0003.avi', 'kiss_0004.avi', 'kiss_0005.avi', 'kiss_0006.avi', 'kiss_0015.avi', 'kiss_0019.avi', 'kiss_0020.avi', 'kiss_0021.avi', 'kiss_0025.avi', 'kiss_0027.avi', 'kiss_0028.avi', 'kiss_0030.avi', 'kiss_0032.avi', 'kiss_0033.avi', 'kiss_0034.avi', 'kiss_0037.avi', 'kiss_0043.avi', 'kiss_0044.avi', 'kiss_0045.avi', 'kiss_0046.avi', 'kiss_0047.avi', 'kiss_0048.avi', 'kiss_0049.avi', 'kiss_0050.avi']\n",
            "Set 2 labels (100):\n",
            "\t['handShake', 'handShake', 'handShake', 'handShake', 'handShake', 'handShake', 'handShake', 'handShake', 'handShake', 'handShake', 'handShake', 'handShake', 'handShake', 'handShake', 'handShake', 'handShake', 'handShake', 'handShake', 'handShake', 'handShake', 'handShake', 'handShake', 'handShake', 'handShake', 'handShake', 'highFive', 'highFive', 'highFive', 'highFive', 'highFive', 'highFive', 'highFive', 'highFive', 'highFive', 'highFive', 'highFive', 'highFive', 'highFive', 'highFive', 'highFive', 'highFive', 'highFive', 'highFive', 'highFive', 'highFive', 'highFive', 'highFive', 'highFive', 'highFive', 'highFive', 'hug', 'hug', 'hug', 'hug', 'hug', 'hug', 'hug', 'hug', 'hug', 'hug', 'hug', 'hug', 'hug', 'hug', 'hug', 'hug', 'hug', 'hug', 'hug', 'hug', 'hug', 'hug', 'hug', 'hug', 'hug', 'kiss', 'kiss', 'kiss', 'kiss', 'kiss', 'kiss', 'kiss', 'kiss', 'kiss', 'kiss', 'kiss', 'kiss', 'kiss', 'kiss', 'kiss', 'kiss', 'kiss', 'kiss', 'kiss', 'kiss', 'kiss', 'kiss', 'kiss', 'kiss', 'kiss']\n"
          ]
        }
      ]
    },
    {
      "cell_type": "code",
      "source": [
        "# convert train labels into integers\n",
        "training_label_int = []\n",
        "for label in set_1_label:\n",
        "  training_label_int.append(set_2_label.index(label))\n",
        "training_labels = np.array(training_label_int)\n",
        "\n",
        "# convert test labels into integers\n",
        "testing_label_int = []\n",
        "for label in set_2_label:\n",
        "  testing_label_int.append(set_1_label.index(label))\n",
        "testing_labels = np.array(testing_label_int)\n"
      ],
      "metadata": {
        "id": "ClBDqNUusLrK"
      },
      "execution_count": null,
      "outputs": []
    },
    {
      "cell_type": "code",
      "source": [
        "# OHE Labels\n",
        "labels_train = []\n",
        "for label in training_labels:\n",
        "  if label == 0:\n",
        "    labels_train.append(np.array([1,0,0,0]))\n",
        "  elif label == 25:\n",
        "    labels_train.append(np.array([0,1,0,0]))\n",
        "  elif label == 50:\n",
        "    labels_train.append(np.array([0,0,1,0]))\n",
        "  elif label == 75:\n",
        "    labels_train.append(np.array([0,0,0,1]))\n",
        "  \n",
        "labels_test = []\n",
        "for label in testing_labels:\n",
        "  if label == 0:\n",
        "    labels_test.append(np.array([1,0,0,0]))\n",
        "  elif label == 25:\n",
        "    labels_test.append(np.array([0,1,0,0]))\n",
        "  elif label == 50:\n",
        "    labels_test.append(np.array([0,0,1,0]))\n",
        "  elif label == 75:\n",
        "    labels_test.append(np.array([0,0,0,1]))\n",
        "\n",
        "labels_train = np.array(labels_train)\n",
        "labels_test = np.array(labels_test)\n",
        "\n"
      ],
      "metadata": {
        "id": "2EpQg6P6sOO4"
      },
      "execution_count": null,
      "outputs": []
    },
    {
      "cell_type": "code",
      "source": [
        "# Compute middle frame for Optical Flow\n",
        "\n",
        "frames_total = []\n",
        "\n",
        "for x in range(100):                                                                              #Iterate over all 100 videos...\n",
        "  clip=VideoFileClip(f'TV-HI/tv_human_interactions_videos/{set_1[x]}')                            #...extract xth clip...\n",
        "  number_of_frames = 0                                                                            #...(re-)initialise number of frames (int)\n",
        "  for frame in clip.iter_frames():                                                                #.Count number of frames...\n",
        "    number_of_frames+=1\n",
        "  middle_frame_position = int(number_of_frames/2)\n",
        "  frames_total.append(middle_frame_position)   "
      ],
      "metadata": {
        "id": "jqgDNfxosQWn"
      },
      "execution_count": null,
      "outputs": []
    },
    {
      "cell_type": "code",
      "source": [
        "#Optical flow\n",
        "all_flows=[]\n",
        "for i in range(100):                                                        #iterate through clips\n",
        "  clip = VideoFileClip(f'TV-HI/tv_human_interactions_videos/{set_1[i]}')    #current clip\n",
        "  int_mf = frames_total[i]                                                  #get int middle frame\n",
        "  frames = []\n",
        "  for f,frame in enumerate(clip.iter_frames()):\n",
        "    if f >= int_mf and f < int_mf+12:                                       #Collect 16 frames, measured from the middle frame onward\n",
        "      frames.append(frame)\n",
        "    if f == int_mf+12:\n",
        "      break                                                                 #If frames are collected, dont stop looping through remaining frames\n",
        "\n",
        "  prev_frame = cv2.cvtColor(frames[0], cv2.COLOR_BGR2GRAY)                  #Init previous frame, read in grayscale, resize (because all clips can have somewhat different shapes)\n",
        "  prev_frame = cv2.resize(prev_frame, (30,40))     \n",
        "\n",
        "  flows = []\n",
        "  for frame_int in range(1,12):\n",
        "    curr_frame = cv2.cvtColor(frames[frame_int], cv2.COLOR_BGR2GRAY)        #Read current frame in grayscale, resize\n",
        "    curr_frame = cv2.resize(curr_frame, (30,40))\n",
        "\n",
        "    flow = cv2.calcOpticalFlowFarneback(prev_frame,curr_frame, None, 0.5, 3, 15, 3, 7, 1.2, 0) \n",
        "                              #Compute optical flow, convert to colors to see optical flow in colors (which aids learning)\n",
        "\n",
        "    np.reshape(flow, (30,40,2))\n",
        "    flows.append(flow)                                                       #Save this image's opticical flow\n",
        "    prev_frame = curr_frame\n",
        "  \n",
        "  stack = np.stack(flows,axis=2)                                                  #Create single stack of images and save it: before hstack(flows)\n",
        "  all_flows.append(stack)                                                 #Create single stack of images and save it\n",
        " \n"
      ],
      "metadata": {
        "id": "-4QKPFslsSL1"
      },
      "execution_count": null,
      "outputs": []
    },
    {
      "cell_type": "code",
      "source": [
        "#Train Validation split\n",
        "#shape (176, 3432, 2)\n",
        "train_images_new=[];validation_images_new=[];train_labels_new=[]; validation_labels_new =[] \n",
        "for x in range(0,100,10):\n",
        "  train_images_new.append(all_flows[x:x+9])        #append index 0 up until 9 to training...\n",
        "  validation_images_new.append(all_flows[x+9])     #...append index 9 to validation\n",
        "\n",
        "  train_labels_new.append(labels_train[x:x+9])\n",
        "  validation_labels_new.append(labels_train[x+9])\n",
        "\n",
        "\n",
        "of_train_labels = np.array(train_labels_new); of_train_images=np.array(train_images_new)\n",
        "\n",
        "of_validation_labels = np.array(validation_labels_new); of_validation_images = np.array(validation_images_new)\n",
        "del train_images_new,train_labels_new,validation_images_new,validation_labels_new               #Del temporary variables\n"
      ],
      "metadata": {
        "id": "3XT7eVa_sawR"
      },
      "execution_count": null,
      "outputs": []
    },
    {
      "cell_type": "code",
      "source": [
        "print(of_train_images.shape, \"\", of_train_labels.shape, \"\", of_validation_images.shape, \"\", of_validation_labels.shape)"
      ],
      "metadata": {
        "colab": {
          "base_uri": "https://localhost:8080/"
        },
        "id": "5xRerPP6sdHN",
        "outputId": "1eb36039-81ea-4fd4-b2bc-88e3f8cb1cb7"
      },
      "execution_count": null,
      "outputs": [
        {
          "output_type": "stream",
          "name": "stdout",
          "text": [
            "(10, 9, 40, 30, 11, 2)  (10, 9, 4)  (10, 40, 30, 11, 2)  (10, 4)\n"
          ]
        }
      ]
    },
    {
      "cell_type": "code",
      "source": [
        "of_train_images = np.reshape(of_train_images, (90,40,30,22))\n",
        "of_train_labels = np.reshape(of_train_labels,(90, 4))\n",
        "of_validation_images = np.reshape(of_validation_images, (10,40,30,22))"
      ],
      "metadata": {
        "id": "cRV4_skksetV"
      },
      "execution_count": null,
      "outputs": []
    },
    {
      "cell_type": "code",
      "source": [
        "print(of_train_images.shape, \"\", of_train_labels.shape, \"\", of_validation_images.shape, \"\", of_validation_labels.shape)"
      ],
      "metadata": {
        "colab": {
          "base_uri": "https://localhost:8080/"
        },
        "id": "H3adzMfjsg2r",
        "outputId": "7ed0f707-225b-4a31-ef55-88d29bef3bdc"
      },
      "execution_count": null,
      "outputs": [
        {
          "output_type": "stream",
          "name": "stdout",
          "text": [
            "(90, 40, 30, 22)  (90, 4)  (10, 40, 30, 22)  (10, 4)\n"
          ]
        }
      ]
    },
    {
      "cell_type": "markdown",
      "source": [
        "Model2 TF"
      ],
      "metadata": {
        "id": "65v_TP1ts9HU"
      }
    },
    {
      "cell_type": "code",
      "source": [
        "# Get the middle frame of each train video:\n",
        "training_images_fromvideo = []\n",
        "for x in range(100):\n",
        "  clip=VideoFileClip(f'TV-HI/tv_human_interactions_videos/{set_1[x]}')\n",
        "  frame = clip.get_frame(clip.duration/2)\n",
        "  #image = tf.image.convert_image_dtype(frame, tf.float32) # equivalent to dividing image pixels by 255\n",
        "  image = tf.image.resize(frame, (40,30))\n",
        "  training_images_fromvideo.append(image)\n",
        "training_images_fromvideo = np.array(training_images_fromvideo)\n",
        "training_images_fromvideo = training_images_fromvideo.astype('float32')"
      ],
      "metadata": {
        "id": "sv18zB9CshTu"
      },
      "execution_count": null,
      "outputs": []
    },
    {
      "cell_type": "code",
      "source": [
        "train_images_new=[]; validation_images_new=[]; train_labels_new=[]; validation_labels_new =[]   #Temporary variables\n",
        "\n",
        "for x in range(0,100,10):\n",
        "  #print(x,\":\",x+9)\n",
        "  train_images_new.append(training_images_fromvideo[x:x+9])        #append index 0 up until 9 to training...\n",
        "  train_labels_new.append(labels_train[x:x+9])\n",
        "  \n",
        "  #print(\"x:\",x+9)\n",
        "  validation_images_new.append(training_images_fromvideo[x+9])     #...append index 9 to validation\n",
        "  validation_labels_new.append(labels_train[x+9])\n",
        "\n",
        "\n",
        "tf_train_labels = np.array(train_labels_new); tf_train_images=np.array(train_images_new)\n",
        "tf_validation_labels = np.array(validation_labels_new); tf_validation_images = np.array(validation_images_new)\n",
        "del train_images_new,train_labels_new,validation_images_new,validation_labels_new               #Del temporary variables\n",
        "print(\"train_images: \", tf_train_images.shape, \"train_labels: \", tf_train_labels.shape,\"validation_labels: \", tf_validation_labels.shape, \"validation_images: \", tf_validation_images.shape)"
      ],
      "metadata": {
        "colab": {
          "base_uri": "https://localhost:8080/"
        },
        "id": "ZBI7vpAytIQv",
        "outputId": "4138ac44-be9d-4fe9-cda1-78d611e9caf4"
      },
      "execution_count": null,
      "outputs": [
        {
          "output_type": "stream",
          "name": "stdout",
          "text": [
            "train_images:  (10, 9, 40, 30, 3) train_labels:  (10, 9, 4) validation_labels:  (10, 4) validation_images:  (10, 40, 30, 3)\n"
          ]
        }
      ]
    },
    {
      "cell_type": "code",
      "source": [
        "tf_train_images = np.reshape(tf_train_images, (90,40,30,3))\n",
        "tf_train_labels = np.reshape(tf_train_labels,(90, 4))\n",
        "print(tf_train_images.shape, \"\", tf_train_labels.shape, \"\", tf_validation_images.shape, \"\", tf_validation_labels.shape)"
      ],
      "metadata": {
        "colab": {
          "base_uri": "https://localhost:8080/"
        },
        "id": "rVo5ckh5vDTi",
        "outputId": "7bb48f4a-49b8-47f9-dd8b-d1a6fca9d7db"
      },
      "execution_count": null,
      "outputs": [
        {
          "output_type": "stream",
          "name": "stdout",
          "text": [
            "(90, 40, 30, 3)  (90, 4)  (10, 40, 30, 3)  (10, 4)\n"
          ]
        }
      ]
    },
    {
      "cell_type": "markdown",
      "source": [
        "# Pretrained Models\n",
        "Import both Pretrained Model and freeze the weights so that they cant get updated"
      ],
      "metadata": {
        "id": "JiO3UlhF-xu8"
      }
    },
    {
      "cell_type": "code",
      "source": [
        "from google.colab import drive\n",
        "drive.mount('/content/drive/')"
      ],
      "metadata": {
        "colab": {
          "base_uri": "https://localhost:8080/"
        },
        "id": "jh2KGXDeAUfG",
        "outputId": "101caf21-a009-4037-b5e3-0343a2835b53"
      },
      "execution_count": null,
      "outputs": [
        {
          "output_type": "stream",
          "name": "stdout",
          "text": [
            "Mounted at /content/drive/\n"
          ]
        }
      ]
    },
    {
      "cell_type": "code",
      "source": [
        "#Open both Models\n",
        "\n",
        "#TRANSFERED MODEL\n",
        "tf_model = keras.models.load_model(\"/content/drive/MyDrive/Assignment5/Model_for_TVHITransferLearning5.2\")\n",
        "tf_model = tf.keras.Model(inputs=tf_model.input, outputs=tf_model.layers[-2].output, name=\"TF-Model\")\n",
        "#transfered_learned_model.trainable = False # prevents the weights in a given layer from being updated during training\n",
        "tf_model.summary()\n",
        "\n",
        "#OPTICAL FLOW\n",
        "of_model = keras.models.load_model(\"/content/drive/MyDrive/Assignment5/Model_opticalFlow\")\n",
        "of_model = tf.keras.Model(inputs=of_model.input, outputs=of_model.layers[-2].output, name=\"OF-Model\")\n",
        "#of_model.trainable = False # prevents the weights in a given layer from being updated during training\n",
        "of_model.summary()"
      ],
      "metadata": {
        "id": "2F59q0nr-6tG",
        "colab": {
          "base_uri": "https://localhost:8080/"
        },
        "outputId": "1665c9ba-0ab5-4824-fd7d-6c462b154560"
      },
      "execution_count": null,
      "outputs": [
        {
          "output_type": "stream",
          "name": "stdout",
          "text": [
            "Model: \"TF-Model\"\n",
            "_________________________________________________________________\n",
            " Layer (type)                Output Shape              Param #   \n",
            "=================================================================\n",
            " input_16 (InputLayer)       [(None, 40, 30, 3)]       0         \n",
            "                                                                 \n",
            " rescaling_11 (Rescaling)    (None, 40, 30, 3)         0         \n",
            "                                                                 \n",
            " sequential_4 (Sequential)   (None, 40, 30, 3)         0         \n",
            "                                                                 \n",
            " model_17 (Functional)       (None, 160)               438400    \n",
            "                                                                 \n",
            " dense_30 (Dense)            (None, 512)               82432     \n",
            "                                                                 \n",
            "=================================================================\n",
            "Total params: 520,832\n",
            "Trainable params: 520,832\n",
            "Non-trainable params: 0\n",
            "_________________________________________________________________\n",
            "Model: \"OF-Model\"\n",
            "_________________________________________________________________\n",
            " Layer (type)                Output Shape              Param #   \n",
            "=================================================================\n",
            " conv2d_22_input (InputLayer  [(None, 40, 30, 22)]     0         \n",
            " )                                                               \n",
            "                                                                 \n",
            " conv2d_22 (Conv2D)          (None, 38, 28, 32)        6368      \n",
            "                                                                 \n",
            " conv2d_23 (Conv2D)          (None, 36, 26, 32)        9248      \n",
            "                                                                 \n",
            " dropout_9 (Dropout)         (None, 36, 26, 32)        0         \n",
            "                                                                 \n",
            " conv2d_24 (Conv2D)          (None, 34, 24, 32)        9248      \n",
            "                                                                 \n",
            " conv2d_25 (Conv2D)          (None, 32, 22, 32)        9248      \n",
            "                                                                 \n",
            " flatten_9 (Flatten)         (None, 22528)             0         \n",
            "                                                                 \n",
            " dense_18 (Dense)            (None, 512)               11534848  \n",
            "                                                                 \n",
            "=================================================================\n",
            "Total params: 11,568,960\n",
            "Trainable params: 11,568,960\n",
            "Non-trainable params: 0\n",
            "_________________________________________________________________\n"
          ]
        }
      ]
    },
    {
      "cell_type": "code",
      "source": [],
      "metadata": {
        "id": "jgWc5itCCuL9"
      },
      "execution_count": null,
      "outputs": []
    },
    {
      "cell_type": "markdown",
      "metadata": {
        "id": "gV-2Ik_kfxmV"
      },
      "source": [
        "# New two-stream Model\n"
      ]
    },
    {
      "cell_type": "code",
      "source": [
        "# New Model (Instead of Sequential we use functional API)\n",
        "\n",
        "input_tf_model = tf.keras.Input(shape=(40, 30, 3))\n",
        "input_of_model = tf.keras.Input(shape=(40, 30, 22))\n",
        "\n",
        "transfered_features = tf_model(input_tf_model, training=True)\n",
        "of_features = of_model(input_of_model, training=True)\n",
        "\n",
        "#Concatenate both models\n",
        "x = layers.concatenate([transfered_features, of_features])\n",
        "#x = tf.keras.layers.GlobalAveragePooling2D()(x) # addintionaly flattens the input \n",
        "x = layers.Dense(64, activation='relu', kernel_regularizer='l1_l2')(x)\n",
        "x = layers.Dropout(0.5)(x)\n",
        "x = layers.Dense(64, activation='relu', kernel_regularizer='l1_l2')(x)\n",
        "\n",
        "outputs = Dense(4, activation='softmax')(x)\n",
        "model = tf.keras.Model(inputs=[input_tf_model, input_of_model], outputs=outputs, name=\"2stream_model\")\n",
        "model.summary()"
      ],
      "metadata": {
        "id": "C5D2y1p3qolJ",
        "colab": {
          "base_uri": "https://localhost:8080/"
        },
        "outputId": "6b18ab78-1a95-4a4a-ce7c-cc5a47f29ab7"
      },
      "execution_count": null,
      "outputs": [
        {
          "output_type": "stream",
          "name": "stdout",
          "text": [
            "Model: \"2stream_model\"\n",
            "__________________________________________________________________________________________________\n",
            " Layer (type)                   Output Shape         Param #     Connected to                     \n",
            "==================================================================================================\n",
            " input_7 (InputLayer)           [(None, 40, 30, 3)]  0           []                               \n",
            "                                                                                                  \n",
            " input_8 (InputLayer)           [(None, 40, 30, 22)  0           []                               \n",
            "                                ]                                                                 \n",
            "                                                                                                  \n",
            " TF-Model (Functional)          (None, 512)          520832      ['input_7[0][0]']                \n",
            "                                                                                                  \n",
            " OF-Model (Functional)          (None, 512)          11568960    ['input_8[0][0]']                \n",
            "                                                                                                  \n",
            " concatenate_3 (Concatenate)    (None, 1024)         0           ['TF-Model[2][0]',               \n",
            "                                                                  'OF-Model[2][0]']               \n",
            "                                                                                                  \n",
            " dense_8 (Dense)                (None, 64)           65600       ['concatenate_3[0][0]']          \n",
            "                                                                                                  \n",
            " dropout_2 (Dropout)            (None, 64)           0           ['dense_8[0][0]']                \n",
            "                                                                                                  \n",
            " dense_9 (Dense)                (None, 64)           4160        ['dropout_2[0][0]']              \n",
            "                                                                                                  \n",
            " dense_10 (Dense)               (None, 4)            260         ['dense_9[0][0]']                \n",
            "                                                                                                  \n",
            "==================================================================================================\n",
            "Total params: 12,159,812\n",
            "Trainable params: 12,159,812\n",
            "Non-trainable params: 0\n",
            "__________________________________________________________________________________________________\n"
          ]
        }
      ]
    },
    {
      "cell_type": "code",
      "source": [
        "\n",
        "def scheduler(epoch, lr):\n",
        "  if epoch < 5:\n",
        "    return lr\n",
        "  else:\n",
        "    return lr * tf.math.exp(-0.1)"
      ],
      "metadata": {
        "id": "_CXrZWm7zNFq"
      },
      "execution_count": null,
      "outputs": []
    },
    {
      "cell_type": "code",
      "source": [
        "print(\"tf_train_images: \", tf_train_images.shape, \"tf_train_labels: \", tf_train_labels.shape,\"tf_validation_labels: \", tf_validation_labels.shape, \"validation_images: \", tf_validation_images.shape)"
      ],
      "metadata": {
        "colab": {
          "base_uri": "https://localhost:8080/"
        },
        "id": "SwGwADD9Bi-S",
        "outputId": "cd62a43c-e887-4a2b-c4ee-739e80fbcfc0"
      },
      "execution_count": null,
      "outputs": [
        {
          "output_type": "stream",
          "name": "stdout",
          "text": [
            "tf_train_images:  (90, 40, 30, 3) tf_train_labels:  (90, 4) tf_validation_labels:  (10, 4) validation_images:  (10, 40, 30, 3)\n"
          ]
        }
      ]
    },
    {
      "cell_type": "code",
      "source": [
        "print(\"tf_train_images: \", of_train_images.shape, \"of_train_labels: \", of_train_labels.shape,\"of_validation_labels: \", of_validation_labels.shape, \"validation_images: \", of_validation_images.shape)"
      ],
      "metadata": {
        "colab": {
          "base_uri": "https://localhost:8080/"
        },
        "id": "9Tf43dXeCR-q",
        "outputId": "52fe72fd-be07-49ab-c0c9-f0ca6b55aefb"
      },
      "execution_count": null,
      "outputs": [
        {
          "output_type": "stream",
          "name": "stdout",
          "text": [
            "tf_train_images:  (90, 40, 30, 22) of_train_labels:  (90, 4) of_validation_labels:  (10, 4) validation_images:  (10, 40, 30, 22)\n"
          ]
        }
      ]
    },
    {
      "cell_type": "code",
      "source": [
        "model.compile(optimizer = tf.keras.optimizers.Adam(learning_rate=.001),metrics=['accuracy'],loss='categorical_crossentropy')\n",
        "callback = tf.keras.callbacks.LearningRateScheduler(scheduler)\n",
        "history = model.fit(x=[tf_train_images, of_train_images], y=tf_train_labels, validation_data=([tf_validation_images, of_validation_images], tf_validation_labels), epochs=30, batch_size=10, callbacks=[callback])"
      ],
      "metadata": {
        "id": "Dtkh3fTqzj6N"
      },
      "execution_count": null,
      "outputs": []
    },
    {
      "cell_type": "code",
      "source": [
        "plt.plot(history.history['loss'])\n",
        "plt.plot(history.history['val_loss'])\n",
        "plt.ylabel('Loss')\n",
        "plt.xlabel('Epoch')\n",
        "plt.legend(['Training', 'Validation'], loc='upper left')\n",
        "plt.show()"
      ],
      "metadata": {
        "colab": {
          "base_uri": "https://localhost:8080/",
          "height": 278
        },
        "id": "V4Wxi0y-Zfr9",
        "outputId": "f3a0e733-3ff2-4672-a783-af5ed81f8ee5"
      },
      "execution_count": null,
      "outputs": [
        {
          "output_type": "display_data",
          "data": {
            "text/plain": [
              "<Figure size 432x288 with 1 Axes>"
            ],
            "image/png": "[encoded data removed]"
          },
          "metadata": {
            "needs_background": "light"
          }
        }
      ]
    },
    {
      "cell_type": "code",
      "source": [
        "plt.plot(history.history['accuracy'])\n",
        "plt.plot(history.history['val_accuracy'])\n",
        "plt.ylabel('Accuracy')\n",
        "plt.xlabel('Epoch')\n",
        "plt.legend(['Training', 'Validation'], loc='upper left')\n",
        "plt.show()"
      ],
      "metadata": {
        "colab": {
          "base_uri": "https://localhost:8080/",
          "height": 278
        },
        "id": "X1NJaqB4Zu4K",
        "outputId": "a7ebc558-3b9c-491e-e719-b7e267eb398a"
      },
      "execution_count": null,
      "outputs": [
        {
          "output_type": "display_data",
          "data": {
            "text/plain": [
              "<Figure size 432x288 with 1 Axes>"
            ],
            "image/png": "[encoded data removed]"
          },
          "metadata": {
            "needs_background": "light"
          }
        }
      ]
    },
    {
      "cell_type": "code",
      "source": [
        "model.save(\"/content/drive/MyDrive/Assignment5/Two-Stream-Model\")"
      ],
      "metadata": {
        "id": "EpYKdAdMn3sB",
        "colab": {
          "base_uri": "https://localhost:8080/",
          "height": 298
        },
        "outputId": "1755a30a-4f47-439c-db14-4c2e3d2ca030"
      },
      "execution_count": null,
      "outputs": [
        {
          "output_type": "error",
          "ename": "ValueError",
          "evalue": "ignored",
          "traceback": [
            "\u001b[0;31m---------------------------------------------------------------------------\u001b[0m",
            "\u001b[0;31mValueError\u001b[0m                                Traceback (most recent call last)",
            "\u001b[0;32m<ipython-input-56-c3894cfbc317>\u001b[0m in \u001b[0;36m<module>\u001b[0;34m()\u001b[0m\n\u001b[0;32m----> 1\u001b[0;31m \u001b[0mmodel\u001b[0m\u001b[0;34m.\u001b[0m\u001b[0msave\u001b[0m\u001b[0;34m(\u001b[0m\u001b[0;34m\"/content/drive/MyDrive/Assignment5/Two-Stream-Model\"\u001b[0m\u001b[0;34m)\u001b[0m\u001b[0;34m\u001b[0m\u001b[0;34m\u001b[0m\u001b[0m\n\u001b[0m",
            "\u001b[0;32m/usr/local/lib/python3.7/dist-packages/keras/utils/traceback_utils.py\u001b[0m in \u001b[0;36merror_handler\u001b[0;34m(*args, **kwargs)\u001b[0m\n\u001b[1;32m     65\u001b[0m     \u001b[0;32mexcept\u001b[0m \u001b[0mException\u001b[0m \u001b[0;32mas\u001b[0m \u001b[0me\u001b[0m\u001b[0;34m:\u001b[0m  \u001b[0;31m# pylint: disable=broad-except\u001b[0m\u001b[0;34m\u001b[0m\u001b[0;34m\u001b[0m\u001b[0m\n\u001b[1;32m     66\u001b[0m       \u001b[0mfiltered_tb\u001b[0m \u001b[0;34m=\u001b[0m \u001b[0m_process_traceback_frames\u001b[0m\u001b[0;34m(\u001b[0m\u001b[0me\u001b[0m\u001b[0;34m.\u001b[0m\u001b[0m__traceback__\u001b[0m\u001b[0;34m)\u001b[0m\u001b[0;34m\u001b[0m\u001b[0;34m\u001b[0m\u001b[0m\n\u001b[0;32m---> 67\u001b[0;31m       \u001b[0;32mraise\u001b[0m \u001b[0me\u001b[0m\u001b[0;34m.\u001b[0m\u001b[0mwith_traceback\u001b[0m\u001b[0;34m(\u001b[0m\u001b[0mfiltered_tb\u001b[0m\u001b[0;34m)\u001b[0m \u001b[0;32mfrom\u001b[0m \u001b[0;32mNone\u001b[0m\u001b[0;34m\u001b[0m\u001b[0;34m\u001b[0m\u001b[0m\n\u001b[0m\u001b[1;32m     68\u001b[0m     \u001b[0;32mfinally\u001b[0m\u001b[0;34m:\u001b[0m\u001b[0;34m\u001b[0m\u001b[0;34m\u001b[0m\u001b[0m\n\u001b[1;32m     69\u001b[0m       \u001b[0;32mdel\u001b[0m \u001b[0mfiltered_tb\u001b[0m\u001b[0;34m\u001b[0m\u001b[0;34m\u001b[0m\u001b[0m\n",
            "\u001b[0;32m/usr/lib/python3.7/contextlib.py\u001b[0m in \u001b[0;36m__exit__\u001b[0;34m(self, type, value, traceback)\u001b[0m\n\u001b[1;32m    117\u001b[0m         \u001b[0;32mif\u001b[0m \u001b[0mtype\u001b[0m \u001b[0;32mis\u001b[0m \u001b[0;32mNone\u001b[0m\u001b[0;34m:\u001b[0m\u001b[0;34m\u001b[0m\u001b[0;34m\u001b[0m\u001b[0m\n\u001b[1;32m    118\u001b[0m             \u001b[0;32mtry\u001b[0m\u001b[0;34m:\u001b[0m\u001b[0;34m\u001b[0m\u001b[0;34m\u001b[0m\u001b[0m\n\u001b[0;32m--> 119\u001b[0;31m                 \u001b[0mnext\u001b[0m\u001b[0;34m(\u001b[0m\u001b[0mself\u001b[0m\u001b[0;34m.\u001b[0m\u001b[0mgen\u001b[0m\u001b[0;34m)\u001b[0m\u001b[0;34m\u001b[0m\u001b[0;34m\u001b[0m\u001b[0m\n\u001b[0m\u001b[1;32m    120\u001b[0m             \u001b[0;32mexcept\u001b[0m \u001b[0mStopIteration\u001b[0m\u001b[0;34m:\u001b[0m\u001b[0;34m\u001b[0m\u001b[0;34m\u001b[0m\u001b[0m\n\u001b[1;32m    121\u001b[0m                 \u001b[0;32mreturn\u001b[0m \u001b[0;32mFalse\u001b[0m\u001b[0;34m\u001b[0m\u001b[0;34m\u001b[0m\u001b[0m\n",
            "\u001b[0;31mValueError\u001b[0m: Creating variables on a non-first call to a function decorated with tf.function."
          ]
        }
      ]
    },
    {
      "cell_type": "markdown",
      "source": [],
      "metadata": {
        "id": "9YB8CiUPLu3L"
      }
    },
    {
      "cell_type": "code",
      "source": [
        "# Get the middle frame of each train video:\n",
        "training_images_fromvideo = []\n",
        "for x in range(100):\n",
        "  clip=VideoFileClip(f'TV-HI/tv_human_interactions_videos/{set_2[x]}')\n",
        "  frame = clip.get_frame(clip.duration/2)\n",
        "  #image = tf.image.convert_image_dtype(frame, tf.float32) # equivalent to dividing image pixels by 255\n",
        "  image = tf.image.resize(frame, (40,30))\n",
        "  training_images_fromvideo.append(image)\n",
        "training_images_fromvideo = np.array(training_images_fromvideo)\n",
        "training_images_fromvideo = training_images_fromvideo.astype('float32')\n",
        "\n",
        "# Compute middle frame for Optical Flow\n",
        "\n",
        "frames_total_test = []\n",
        "\n",
        "for x in range(100):                                                                              #Iterate over all 100 videos...\n",
        "  clip=VideoFileClip(f'TV-HI/tv_human_interactions_videos/{set_2[x]}')                            #...extract xth clip...\n",
        "  number_of_frames = 0                                                                            #...(re-)initialise number of frames (int)\n",
        "  for frame in clip.iter_frames():                                                                #.Count number of frames...\n",
        "    number_of_frames+=1\n",
        "  middle_frame_position = int(number_of_frames/2)\n",
        "  frames_total_test.append(middle_frame_position)   \n",
        "\n",
        "\n",
        "#Optical flow\n",
        "all_flows_test=[]\n",
        "for i in range(100):                                                        #iterate through clips\n",
        "  clip = VideoFileClip(f'TV-HI/tv_human_interactions_videos/{set_2[i]}')    #current clip\n",
        "  int_mf = frames_total_test[i]                                                  #get int middle frame\n",
        "  frames = []\n",
        "  for f,frame in enumerate(clip.iter_frames()):\n",
        "    if f >= int_mf and f < int_mf+12:                                       #Collect 16 frames, measured from the middle frame onward\n",
        "      frames.append(frame)\n",
        "    if f == int_mf+12:\n",
        "      break                                                                 #If frames are collected, dont stop looping through remaining frames\n",
        "\n",
        "  prev_frame = cv2.cvtColor(frames[0], cv2.COLOR_BGR2GRAY)                  #Init previous frame, read in grayscale, resize (because all clips can have somewhat different shapes)\n",
        "  prev_frame = cv2.resize(prev_frame, (30,40))     \n",
        "\n",
        "  flows = []\n",
        "  for frame_int in range(1,12):\n",
        "    curr_frame = cv2.cvtColor(frames[frame_int], cv2.COLOR_BGR2GRAY)        #Read current frame in grayscale, resize\n",
        "    curr_frame = cv2.resize(curr_frame, (30,40))\n",
        "\n",
        "    flow = cv2.calcOpticalFlowFarneback(prev_frame,curr_frame, None, 0.5, 3, 15, 3, 7, 1.2, 0) \n",
        "                              #Compute optical flow, convert to colors to see optical flow in colors (which aids learning)\n",
        "\n",
        "    np.reshape(flow, (30,40,2))\n",
        "    flows.append(flow)                                                       #Save this image's opticical flow\n",
        "    prev_frame = curr_frame\n",
        "  \n",
        "  stack = np.stack(flows,axis=2)                                                  #Create single stack of images and save it: before hstack(flows)\n",
        "  all_flows_test.append(stack)                                                 #Create single stack of images and save it\n",
        " \n",
        "test_data = np.array(all_flows_test)"
      ],
      "metadata": {
        "id": "ONJXpNSnLtKy"
      },
      "execution_count": null,
      "outputs": []
    },
    {
      "cell_type": "code",
      "source": [
        "of_test_data = np.reshape(test_data, (100,40,30,22))\n",
        "tf_test_data = training_images_fromvideo"
      ],
      "metadata": {
        "id": "8WiKR5xvNl-1"
      },
      "execution_count": null,
      "outputs": []
    },
    {
      "cell_type": "code",
      "source": [
        "test = model.evaluate([tf_test_data, of_test_data], labels_test)"
      ],
      "metadata": {
        "colab": {
          "base_uri": "https://localhost:8080/"
        },
        "id": "GqTzuNCQMDOh",
        "outputId": "95d3c2ad-9c66-4a10-b57e-773b3c9d3b41"
      },
      "execution_count": null,
      "outputs": [
        {
          "output_type": "stream",
          "name": "stdout",
          "text": [
            "4/4 [==============================] - 0s 39ms/step - loss: 7.2638 - accuracy: 0.2900\n"
          ]
        }
      ]
    }
  ]
}